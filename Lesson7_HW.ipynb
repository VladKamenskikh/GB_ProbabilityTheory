{
 "cells": [
  {
   "cell_type": "code",
   "execution_count": 28,
   "metadata": {
    "collapsed": true
   },
   "outputs": [],
   "source": [
    "import numpy as np"
   ]
  },
  {
   "cell_type": "markdown",
   "source": [
    "### 1. Даны значения величины заработной платы заемщиков банка (zp) и значения их поведенческого кредитного скоринга (ks): zp = [35, 45, 190, 200, 40, 70, 54, 150, 120, 110], ks = [401, 574, 874, 919, 459, 739, 653, 902, 746, 832]. Используя математические операции, посчитать коэффициенты линейной регрессии, приняв за X заработную плату (то есть, zp - признак), а за y - значения скорингового балла (то есть, ks - целевая переменная). Произвести расчет как с использованием intercept, так и без."
   ],
   "metadata": {
    "collapsed": false,
    "pycharm": {
     "name": "#%% md\n"
    }
   }
  },
  {
   "cell_type": "code",
   "execution_count": 29,
   "outputs": [
    {
     "name": "stdout",
     "output_type": "stream",
     "text": [
      "Коэффициент b: 2.6205388824027653\n",
      "Коэффициент a: 444.17735732435955\n"
     ]
    }
   ],
   "source": [
    "zp = np.array([35, 45, 190, 200, 40, 70, 54, 150, 120, 110])\n",
    "ks = np.array([401, 574, 874, 919, 459, 739, 653, 902, 746, 832])\n",
    "n = len(zp)\n",
    "\n",
    "b = (n*(np.sum(zp*ks)) - (np.sum(zp)*np.sum(ks))) / (n*(np.sum(zp**2))-(np.sum(zp)**2))\n",
    "\n",
    "print(f'Коэффициент b: {b}')\n",
    "\n",
    "a = np.mean(ks) - b*np.mean(zp)\n",
    "\n",
    "print(f'Коэффициент a: {a}')"
   ],
   "metadata": {
    "collapsed": false,
    "pycharm": {
     "name": "#%%\n"
    }
   }
  },
  {
   "cell_type": "code",
   "execution_count": 30,
   "outputs": [
    {
     "name": "stdout",
     "output_type": "stream",
     "text": [
      "Коэффициент b: 2.6205388824027684\n",
      "Коэффициент a: 444.17735732435915\n"
     ]
    }
   ],
   "source": [
    "X = zp.reshape((10,1))\n",
    "y = ks.reshape((10,1))\n",
    "\n",
    "X = np.hstack([np.ones((10,1)),X])\n",
    "\n",
    "B = (np.linalg.inv(X.T@X))@X.T@y\n",
    "print(f'Коэффициент b: {B[1,0]}')\n",
    "print(f'Коэффициент a: {B[0,0]}')"
   ],
   "metadata": {
    "collapsed": false,
    "pycharm": {
     "name": "#%%\n"
    }
   }
  },
  {
   "cell_type": "markdown",
   "source": [
    "### 2. Посчитать коэффициент линейной регрессии при заработной плате (zp), используя градиентный спуск (без intercept)."
   ],
   "metadata": {
    "collapsed": false,
    "pycharm": {
     "name": "#%% md\n"
    }
   }
  },
  {
   "cell_type": "code",
   "execution_count": 31,
   "outputs": [],
   "source": [
    "def mse_(B1,y=ks,X=zp,n=10):\n",
    "    return np.sum((B1*X-y)**2)/n"
   ],
   "metadata": {
    "collapsed": false,
    "pycharm": {
     "name": "#%%\n"
    }
   }
  },
  {
   "cell_type": "code",
   "execution_count": 32,
   "outputs": [
    {
     "name": "stdout",
     "output_type": "stream",
     "text": [
      "Iteration: 0, B1=0.26094768, mse=493017.52282052615\n",
      "Iteration: 50, B1=4.536184804099786, mse=81760.12736590448\n",
      "Iteration: 100, B1=5.593508888000083, mse=57726.451115687916\n",
      "Iteration: 150, B1=5.854999464065145, mse=56533.56252918736\n",
      "Iteration: 200, B1=5.919669627558069, mse=56529.13302443824\n",
      "Iteration: 250, B1=5.935663435477025, mse=56545.811071070166\n",
      "Iteration: 300, B1=5.939618920942537, mse=56551.02287770157\n",
      "Iteration: 350, B1=5.94059716610761, mse=56552.37831947468\n",
      "Iteration: 400, B1=5.940839099395277, mse=56552.71760547262\n",
      "Iteration: 450, B1=5.940898932776286, mse=56552.801764244774\n"
     ]
    }
   ],
   "source": [
    "alpha = 1e-6\n",
    "B1 = 0.1\n",
    "n = 10\n",
    "\n",
    "for i in range(500):\n",
    "    B1 -= alpha * (2/n) * np.sum((B1*X-y)*X)\n",
    "    if i%50==0:\n",
    "        print(f'Iteration: {i}, B1={B1}, mse={mse_(B1)}')"
   ],
   "metadata": {
    "collapsed": false,
    "pycharm": {
     "name": "#%%\n"
    }
   }
  },
  {
   "cell_type": "markdown",
   "source": [
    "### 3. В каких случаях для вычисления доверительных интервалов и проверки статистических гипотез используется таблица значений функции Лапласа, а в каких - таблица критических точек распределения Стьюдента?"
   ],
   "metadata": {
    "collapsed": false,
    "pycharm": {
     "name": "#%% md\n"
    }
   }
  },
  {
   "cell_type": "markdown",
   "source": [
    "Таблица значений функции Лапласа используется при Z тесте, когда известна дисперсия генеральной совокупности, а таблица критических точек распределения Стъюдента используется при t тесте, когда дисперсия генеральной совокупности не известна, а имеется только стандартная ошибка выборки."
   ],
   "metadata": {
    "collapsed": false,
    "pycharm": {
     "name": "#%% md\n"
    }
   }
  },
  {
   "cell_type": "markdown",
   "source": [
    "### *4. Произвести вычисления как в пункте 2, но с вычислением intercept. Учесть, что изменение коэффициентов должно производиться на каждом шаге одновременно (то есть изменение одного коэффициента не должно влиять на изменение другого во время одной итерации)."
   ],
   "metadata": {
    "collapsed": false,
    "pycharm": {
     "name": "#%% md\n"
    }
   }
  },
  {
   "cell_type": "code",
   "execution_count": 33,
   "outputs": [],
   "source": [
    "def mse_(B0,B1,y=ks,X=zp,n=10):\n",
    "    return np.sum((B0+B1*X-y)**2)/n"
   ],
   "metadata": {
    "collapsed": false,
    "pycharm": {
     "name": "#%%\n"
    }
   }
  },
  {
   "cell_type": "code",
   "execution_count": 51,
   "outputs": [
    {
     "name": "stdout",
     "output_type": "stream",
     "text": [
      "Iteration: 0, B0=0.30281791999999996, B1=0.26088566288998405, mse=492613.3135104861\n",
      "Iteration: 500, B0=1.1554996389101286, B1=5.93275059399065, mse=56293.258528327024\n",
      "Iteration: 1000, B0=1.9649740039658494, B1=5.926738624770315, mse=56111.41226721734\n",
      "Iteration: 1500, B0=2.7734461269150614, B1=5.92072924831964, mse=55930.11618746766\n",
      "Iteration: 2000, B0=3.5809172846833417, B1=5.914727312042916, mse=55749.37565343231\n",
      "Iteration: 2500, B0=4.387388716560576, B1=5.9087328067326546, mse=55569.18915797966\n",
      "Iteration: 3000, B0=5.192861660302251, B1=5.902745723188613, mse=55389.55519786572\n",
      "Iteration: 3500, B0=5.997337352131389, B1=5.896766052221942, mse=55210.472273730105\n",
      "Iteration: 4000, B0=6.800817026740469, B1=5.890793784655166, mse=55031.938890086356\n",
      "Iteration: 4500, B0=7.6033019172932725, B1=5.884828911322175, mse=54853.9535553121\n",
      "Iteration: 5000, B0=8.404793255426856, B1=5.8788714230682055, mse=54676.5147816392\n",
      "Iteration: 5500, B0=9.205292271253336, B1=5.87292131074983, mse=54499.621085144136\n",
      "Iteration: 6000, B0=10.004800193361886, B1=5.86697856523494, mse=54323.27098573826\n",
      "Iteration: 6500, B0=10.803318248820549, B1=5.861043177402732, mse=54147.46300715804\n",
      "Iteration: 7000, B0=11.600847663178117, B1=5.855115138143701, mse=53972.19567695547\n",
      "Iteration: 7500, B0=12.397389660466068, B1=5.849194438359612, mse=53797.46752648837\n",
      "Iteration: 8000, B0=13.192945463200385, B1=5.843281068963501, mse=53623.277090910786\n",
      "Iteration: 8500, B0=13.9875162923835, B1=5.837375020879653, mse=53449.622909163474\n",
      "Iteration: 9000, B0=14.781103367506082, B1=5.831476285043588, mse=53276.50352396416\n",
      "Iteration: 9500, B0=15.573707906549002, B1=5.825584852402049, mse=53103.91748179817\n"
     ]
    }
   ],
   "source": [
    "alpha = 1e-6\n",
    "B1 = 0.1\n",
    "B0 = 0.3\n",
    "n = 10\n",
    "\n",
    "for i in range(10000):\n",
    "    B0 -= alpha * (2/n) * np.sum(B0+B1*X-y)\n",
    "    B1 -= alpha * (2/n) * np.sum((B0+B1*X-y)*X)\n",
    "    if i%500==0:\n",
    "        print(f'Iteration: {i}, B0={B0}, B1={B1}, mse={mse_(B0,B1)}')"
   ],
   "metadata": {
    "collapsed": false,
    "pycharm": {
     "name": "#%%\n"
    }
   }
  }
 ],
 "metadata": {
  "kernelspec": {
   "display_name": "Python 3",
   "language": "python",
   "name": "python3"
  },
  "language_info": {
   "codemirror_mode": {
    "name": "ipython",
    "version": 2
   },
   "file_extension": ".py",
   "mimetype": "text/x-python",
   "name": "python",
   "nbconvert_exporter": "python",
   "pygments_lexer": "ipython2",
   "version": "2.7.6"
  }
 },
 "nbformat": 4,
 "nbformat_minor": 0
}