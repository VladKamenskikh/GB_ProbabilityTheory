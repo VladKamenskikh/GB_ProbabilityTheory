{
 "cells": [
  {
   "cell_type": "code",
   "execution_count": 1,
   "metadata": {},
   "outputs": [],
   "source": [
    "import numpy as np"
   ]
  },
  {
   "cell_type": "markdown",
   "metadata": {},
   "source": [
    "### 1. Известно, что генеральная совокупность распределена нормально со средним квадратическим отклонением, равным 16. Найти доверительный интервал для оценки математического ожидания a с надежностью 0.95, если выборочная средняя M = 80, а объем выборки n = 256."
   ]
  },
  {
   "cell_type": "code",
   "execution_count": 4,
   "metadata": {},
   "outputs": [
    {
     "name": "stdout",
     "output_type": "stream",
     "text": [
      "Доверительный интервал: [78.04;81.96]\n"
     ]
    }
   ],
   "source": [
    "std = 16\n",
    "alpha = 0.05\n",
    "X = 80\n",
    "n = 256\n",
    "\n",
    "#По таблице получаем Z = 1.96\n",
    "conf_int_low = X - 1.96*(std/n**0.5)\n",
    "conf_int_high = X + 1.96*(std/n**0.5)\n",
    "\n",
    "print(f'Доверительный интервал: [{conf_int_low};{conf_int_high}]')"
   ]
  },
  {
   "cell_type": "markdown",
   "metadata": {},
   "source": [
    "### 2. В результате 10 независимых измерений некоторой величины X, выполненных с одинаковой точностью, получены опытные данные: \n",
    "### 6.9, 6.1, 6.2, 6.8, 7.5, 6.3, 6.4, 6.9, 6.7, 6.1\n",
    "### Предполагая, что результаты измерений подчинены нормальному закону распределения вероятностей, оценить истинное значение величины X при помощи доверительного интервала, покрывающего это значение с доверительной вероятностью 0,95."
   ]
  },
  {
   "cell_type": "code",
   "execution_count": 6,
   "metadata": {},
   "outputs": [
    {
     "name": "stdout",
     "output_type": "stream",
     "text": [
      "Доверительный интервал: [6.27;6.91]\n"
     ]
    }
   ],
   "source": [
    "measures = np.array([6.9, 6.1, 6.2, 6.8, 7.5, 6.3, 6.4, 6.9, 6.7, 6.1])\n",
    "alpha = 0.05\n",
    "n = 10\n",
    "df = n - 1\n",
    "\n",
    "#По таблице Стъюдента получаем значение t = 2.262\n",
    "conf_int_low = np.mean(measures) - 2.262*(np.std(measures, ddof=1)/n**0.5)\n",
    "conf_int_high = np.mean(measures) + 2.262*(np.std(measures, ddof=1)/n**0.5)\n",
    "\n",
    "print(f'Доверительный интервал: [{conf_int_low:.2f};{conf_int_high:.2f}]')"
   ]
  },
  {
   "cell_type": "markdown",
   "metadata": {},
   "source": [
    "### 3. Утверждается, что шарики для подшипников, изготовленные автоматическим станком, имеют средний диаметр 17 мм. Используя односторонний критерий с α=0,05, проверить эту гипотезу, если в выборке из n=100 шариков средний диаметр оказался равным 17.5 мм, а дисперсия известна и равна 4 кв. мм."
   ]
  },
  {
   "cell_type": "code",
   "execution_count": 7,
   "metadata": {},
   "outputs": [
    {
     "name": "stdout",
     "output_type": "stream",
     "text": [
      "Zн=2.5, верна H1\n"
     ]
    }
   ],
   "source": [
    "avg_diam = 17\n",
    "n = 100\n",
    "alpha = 0.05\n",
    "d = 4\n",
    "\n",
    "#Т.к. дисперсия ГС известна, применяем Z тест\n",
    "\n",
    "#H0: диаметр = 17 мм, mu=mu0\n",
    "#H1: диаметр = 17.5 мм, mu>mu0\n",
    "\n",
    "#По таблице получаем Z = 1.65\n",
    "\n",
    "Z_observed = (17.5-avg_diam)/(d**0.5/n**0.5)\n",
    "\n",
    "if Z_observed > 1.65:\n",
    "    print(f'Zн={Z_observed}, верна H1')\n",
    "else:\n",
    "    print(f'Zн={Z_observed}, верна H0')"
   ]
  },
  {
   "cell_type": "markdown",
   "metadata": {},
   "source": [
    "### 4. Продавец утверждает, что средний вес пачки печенья составляет 200 г. Из партии извлечена выборка из 10 пачек. Вес каждой пачки составляет:\n",
    "### 202, 203, 199, 197, 195, 201, 200, 204, 194, 190.\n",
    "### Известно, что их веса распределены нормально. Верно ли утверждение продавца, если учитывать, что доверительная вероятность равна 99%?"
   ]
  },
  {
   "cell_type": "code",
   "execution_count": 11,
   "metadata": {},
   "outputs": [
    {
     "name": "stdout",
     "output_type": "stream",
     "text": [
      "tн=-1.07, верна H0\n"
     ]
    }
   ],
   "source": [
    "measures = np.array([202, 203, 199, 197, 195, 201, 200, 204, 194, 190])\n",
    "avg_weight = 200\n",
    "n = 10\n",
    "alpha = 0.01\n",
    "\n",
    "#Т.к. дисперсия ГС не известна, применяем t тест\n",
    "\n",
    "#H0: диаметр = 200 мм, mu=mu0\n",
    "#H1: диаметр не равен 200 мм, mu!=mu0\n",
    "\n",
    "#По таблице получаем диапазон t -3.250 до 3.250\n",
    "\n",
    "t_observed = (np.mean(measures)-avg_weight)/(np.std(measures, ddof=1)/n**0.5)\n",
    "\n",
    "if -3.250 < t_observed < 3.250:\n",
    "    print(f'tн={t_observed:.2f}, верна H0')\n",
    "else:\n",
    "    print(f'tн={t_observed:.2f}, верна H1')"
   ]
  }
 ],
 "metadata": {
  "kernelspec": {
   "display_name": "Python 3",
   "language": "python",
   "name": "python3"
  },
  "language_info": {
   "codemirror_mode": {
    "name": "ipython",
    "version": 3
   },
   "file_extension": ".py",
   "mimetype": "text/x-python",
   "name": "python",
   "nbconvert_exporter": "python",
   "pygments_lexer": "ipython3",
   "version": "3.8.5"
  }
 },
 "nbformat": 4,
 "nbformat_minor": 4
}
