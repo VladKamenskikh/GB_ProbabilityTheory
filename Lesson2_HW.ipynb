{
 "cells": [
  {
   "cell_type": "markdown",
   "metadata": {},
   "source": [
    "## 1. Вероятность того, что стрелок попадет в мишень, выстрелив один раз, равна 0.8. Стрелок выстрелил 100 раз. Найдите вероятность того, что стрелок попадет в цель ровно 85 раз."
   ]
  },
  {
   "cell_type": "markdown",
   "metadata": {},
   "source": [
    "### $p=0.8$\n",
    "\n",
    "### $n=100$\n",
    "\n",
    "### $k=85$\n",
    "\n",
    "### $P(k=85)=C^{85}_{100}\\cdot p^{85}\\cdot q^{15}=\\frac{100!}{85!15!}\\cdot 0.8^{85}\\cdot 0.2^{15}=0.048$\n"
   ]
  },
  {
   "cell_type": "code",
   "execution_count": 1,
   "metadata": {},
   "outputs": [],
   "source": [
    "from math import factorial\n",
    "import numpy as np\n",
    "\n",
    "def combinations(n, k):\n",
    "    return int(factorial(n) / (factorial(k) * factorial(n - k)))"
   ]
  },
  {
   "cell_type": "code",
   "execution_count": 2,
   "metadata": {},
   "outputs": [
    {
     "name": "stdout",
     "output_type": "stream",
     "text": [
      "P = 0.048\n"
     ]
    }
   ],
   "source": [
    "p = combinations(100,85)*(0.8**85)*(0.2**15)\n",
    "print(f'P = {p:.3f}')"
   ]
  },
  {
   "cell_type": "markdown",
   "metadata": {},
   "source": [
    "### Ответ: Вероятность, что стрелок попадет в цель ровно 85 раз, равна 0.048."
   ]
  },
  {
   "cell_type": "markdown",
   "metadata": {},
   "source": [
    "## 2. Вероятность того, что лампочка перегорит в течение первого дня эксплуатации, равна 0.0004. В жилом комплексе после ремонта в один день включили 5000 новых лампочек. Какова вероятность, что ни одна из них не перегорит в первый день? "
   ]
  },
  {
   "cell_type": "markdown",
   "metadata": {},
   "source": [
    "### $\\lambda=n\\cdot p=5000\\cdot 0.0004=2$\n",
    "\n",
    "### $P(0)\\approx \\frac{\\lambda^0}{0!}\\cdot e^{-\\lambda}\\approx 2.72^{-2}\\approx 0.135$"
   ]
  },
  {
   "cell_type": "code",
   "execution_count": 3,
   "metadata": {},
   "outputs": [
    {
     "name": "stdout",
     "output_type": "stream",
     "text": [
      "P(0) = 0.135\n"
     ]
    }
   ],
   "source": [
    "n = 5000\n",
    "m = 0\n",
    "p = 0.0004\n",
    "lambda_ = n * p\n",
    "\n",
    "P = (lambda_**m / np.math.factorial(m)) * np.exp(-lambda_)\n",
    "\n",
    "print(f'P(0) = {P:.3f}')"
   ]
  },
  {
   "cell_type": "markdown",
   "metadata": {},
   "source": [
    "## Какова вероятность, что перегорят ровно две?"
   ]
  },
  {
   "cell_type": "markdown",
   "metadata": {},
   "source": [
    "### $P(2)\\approx \\frac{2^2}{2!}\\cdot e^{-2}\\approx \\frac{4}{2}\\cdot 2.72^{-2}\\approx 0.27$"
   ]
  },
  {
   "cell_type": "code",
   "execution_count": 8,
   "metadata": {},
   "outputs": [
    {
     "name": "stdout",
     "output_type": "stream",
     "text": [
      "P(2) = 0.271\n"
     ]
    }
   ],
   "source": [
    "n = 5000\n",
    "m = 2\n",
    "p = 0.0004\n",
    "lambda_ = n * p\n",
    "\n",
    "P = (lambda_**m / np.math.factorial(m)) * np.exp(-lambda_)\n",
    "\n",
    "print(f'P(2) = {P:.3f}')"
   ]
  },
  {
   "cell_type": "markdown",
   "metadata": {},
   "source": [
    "### Ответ: Вероятность, что ни одна из лампочек не перегорит в первый день, равна 0.135. Вероятность, что перегорят ровно 2, равна 0.27."
   ]
  },
  {
   "cell_type": "markdown",
   "metadata": {},
   "source": [
    "## 3. Монету подбросили 144 раза. Какова вероятность, что орел выпадет ровно 70 раз?"
   ]
  },
  {
   "cell_type": "markdown",
   "metadata": {},
   "source": [
    "### $p=0.5$\n",
    "\n",
    "### $n=144$\n",
    "\n",
    "### $k=70$\n",
    "\n",
    "### $P(k=70)=C^{70}_{144}\\cdot p^{70}\\cdot q^{74}=\\frac{144!}{70!74!}\\cdot 0.5^{70}\\cdot 0.5^{74}=0.063$\n"
   ]
  },
  {
   "cell_type": "code",
   "execution_count": 5,
   "metadata": {},
   "outputs": [
    {
     "name": "stdout",
     "output_type": "stream",
     "text": [
      "P = 0.063\n"
     ]
    }
   ],
   "source": [
    "p = combinations(144,70)*(0.5**70)*(0.5**74)\n",
    "print(f'P = {p:.3f}')"
   ]
  },
  {
   "cell_type": "markdown",
   "metadata": {},
   "source": [
    "### Ответ: Вероятность, что орел выпадет ровно 70 раз, равна 0.063."
   ]
  },
  {
   "cell_type": "markdown",
   "metadata": {},
   "source": [
    "## 4. В первом ящике находится 10 мячей, из которых 7 - белые. Во втором ящике - 11 мячей, из которых 9 белых. Из каждого ящика вытаскивают случайным образом по два мяча. Какова вероятность того, что все мячи белые?  "
   ]
  },
  {
   "cell_type": "markdown",
   "metadata": {},
   "source": [
    "### $p=\\frac{16}{22}$\n",
    "\n",
    "### $n=4$\n",
    "\n",
    "### $k=4$\n",
    "\n",
    "### $P(k=4)=C^{4}_{4}\\cdot p^{4}\\cdot q^{0}=\\frac{4!}{4!0!}\\cdot (\\frac{16}{22})^{4}\\cdot (\\frac{6}{22})^{0}=0.28$"
   ]
  },
  {
   "cell_type": "code",
   "execution_count": 6,
   "metadata": {},
   "outputs": [
    {
     "name": "stdout",
     "output_type": "stream",
     "text": [
      "P = 0.280\n"
     ]
    }
   ],
   "source": [
    "p = combinations(4,4)*((16/22)**4)*((6/22)**0)\n",
    "print(f'P = {p:.3f}')"
   ]
  },
  {
   "cell_type": "markdown",
   "metadata": {},
   "source": [
    "## Какова вероятность того, что ровно два мяча белые?"
   ]
  },
  {
   "cell_type": "markdown",
   "metadata": {},
   "source": [
    "### $p=\\frac{16}{22}$\n",
    "\n",
    "### $n=4$\n",
    "\n",
    "### $k=2$\n",
    "\n",
    "### $P(k=2)=C^{2}_{4}\\cdot p^{2}\\cdot q^{2}=\\frac{4!}{2!2!}\\cdot (\\frac{16}{22})^{2}\\cdot (\\frac{6}{22})^{2}=0.236$"
   ]
  },
  {
   "cell_type": "code",
   "execution_count": 7,
   "metadata": {},
   "outputs": [
    {
     "name": "stdout",
     "output_type": "stream",
     "text": [
      "P = 0.236\n"
     ]
    }
   ],
   "source": [
    "p = combinations(4,2)*((16/22)**2)*((6/22)**2)\n",
    "print(f'P = {p:.3f}')"
   ]
  },
  {
   "cell_type": "markdown",
   "metadata": {},
   "source": [
    "## Какова вероятность того, что хотя бы один мяч белый?"
   ]
  },
  {
   "cell_type": "markdown",
   "metadata": {},
   "source": [
    "### $P=P(1)+P(2)+P(3)+P(4)$\n",
    "\n",
    "### $P(1)=C^{1}_{4}\\cdot p^{1}\\cdot q^{3}=\\frac{4!}{1!3!}\\cdot (\\frac{16}{22})^{1}\\cdot (\\frac{6}{22})^{3}=0.059$\n",
    "\n",
    "### $P(2)=C^{2}_{4}\\cdot p^{2}\\cdot q^{2}=\\frac{4!}{2!2!}\\cdot (\\frac{16}{22})^{2}\\cdot (\\frac{6}{22})^{2}=0.236$\n",
    "\n",
    "### $P(3)=C^{3}_{4}\\cdot p^{3}\\cdot q^{1}=\\frac{4!}{3!1!}\\cdot (\\frac{16}{22})^{3}\\cdot (\\frac{6}{22})^{1}=0.419$\n",
    "\n",
    "### $P(4)=C^{4}_{4}\\cdot p^{4}\\cdot q^{0}=\\frac{4!}{4!0!}\\cdot (\\frac{16}{22})^{4}\\cdot (\\frac{6}{22})^{0}=0.280$"
   ]
  },
  {
   "cell_type": "code",
   "execution_count": 9,
   "metadata": {},
   "outputs": [
    {
     "name": "stdout",
     "output_type": "stream",
     "text": [
      "P = 0.994\n"
     ]
    }
   ],
   "source": [
    "p_1 = combinations(4,1)*((16/22)**1)*((6/22)**3)\n",
    "p_2 = combinations(4,2)*((16/22)**2)*((6/22)**2)\n",
    "p_3 = combinations(4,3)*((16/22)**3)*((6/22)**1)\n",
    "p_4 = combinations(4,4)*((16/22)**4)*((6/22)**0)\n",
    "\n",
    "P = p_1+p_2+p_3+p_4\n",
    "print(f'P = {P:.3f}')"
   ]
  },
  {
   "cell_type": "markdown",
   "metadata": {},
   "source": [
    "### Ответ: Вероятность, что все вытащенные мячи белые, равна 0.280. Вероятность, что ровно два мяча белые, равна 0.236. Вероятность, что хотя бы один мяч белый, равна 0.994."
   ]
  }
 ],
 "metadata": {
  "kernelspec": {
   "display_name": "Python 3",
   "language": "python",
   "name": "python3"
  },
  "language_info": {
   "codemirror_mode": {
    "name": "ipython",
    "version": 3
   },
   "file_extension": ".py",
   "mimetype": "text/x-python",
   "name": "python",
   "nbconvert_exporter": "python",
   "pygments_lexer": "ipython3",
   "version": "3.8.5"
  }
 },
 "nbformat": 4,
 "nbformat_minor": 4
}
