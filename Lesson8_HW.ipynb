{
 "cells": [
  {
   "cell_type": "code",
   "execution_count": 1,
   "metadata": {
    "collapsed": true
   },
   "outputs": [],
   "source": [
    "import numpy as np\n",
    "from scipy import stats"
   ]
  },
  {
   "cell_type": "markdown",
   "source": [
    "### 1. Провести дисперсионный анализ для определения того, есть ли различия среднего роста среди взрослых футболистов, хоккеистов и штангистов. Даны значения роста в трех группах случайно выбранных спортсменов: Футболисты: 173, 175, 180, 178, 177, 185, 183, 182. Хоккеисты: 177, 179, 180, 188, 177, 172, 171, 184, 180. Штангисты: 172, 173, 169, 177, 166, 180, 178, 177, 172, 166, 170."
   ],
   "metadata": {
    "collapsed": false,
    "pycharm": {
     "name": "#%% md\n"
    }
   }
  },
  {
   "cell_type": "code",
   "execution_count": 3,
   "outputs": [
    {
     "data": {
      "text/plain": "F_onewayResult(statistic=5.500053450812596, pvalue=0.010482206918698694)"
     },
     "execution_count": 3,
     "metadata": {},
     "output_type": "execute_result"
    }
   ],
   "source": [
    "football = np.array([173, 175, 180, 178, 177, 185, 183, 182])\n",
    "hockey = np.array([177, 179, 180, 188, 177, 172, 171, 184, 180])\n",
    "weightlifting = np.array([172, 173, 169, 177, 166, 180, 178, 177, 172, 166, 170])\n",
    "\n",
    "stats.f_oneway(football,hockey,weightlifting)"
   ],
   "metadata": {
    "collapsed": false,
    "pycharm": {
     "name": "#%%\n"
    }
   }
  },
  {
   "cell_type": "code",
   "execution_count": 24,
   "outputs": [
    {
     "name": "stdout",
     "output_type": "stream",
     "text": [
      "Fh = 5.500053450812598\n"
     ]
    }
   ],
   "source": [
    "k = 3\n",
    "n1 = len(football)\n",
    "n2 = len(hockey)\n",
    "n3 = len(weightlifting)\n",
    "\n",
    "n_t = n1+n2+n3\n",
    "\n",
    "y1 = np.sum(football)/n1\n",
    "y2 = np.sum(hockey)/n2\n",
    "y3 = np.sum(weightlifting)/n3\n",
    "\n",
    "Y = (np.sum(football) + np.sum(hockey) + np.sum(weightlifting))/n_t\n",
    "total = np.concatenate((football,hockey,weightlifting))\n",
    "\n",
    "S_squared = np.sum((total-Y)**2)\n",
    "\n",
    "S_F_squared = ((y1-Y)**2)*n1 + ((y2-Y)**2)*n2 + ((y3-Y)**2)*n3\n",
    "\n",
    "S_rem_squared = np.sum((football-y1)**2) + np.sum((hockey-y2)**2) + np.sum((weightlifting-y3)**2)\n",
    "\n",
    "sigma_F_squared = S_F_squared/(k-1)\n",
    "\n",
    "sigma_rem_squared = S_rem_squared/(n_t-k)\n",
    "\n",
    "f_h = sigma_F_squared/sigma_rem_squared\n",
    "\n",
    "print(f'Fh = {f_h}')"
   ],
   "metadata": {
    "collapsed": false,
    "pycharm": {
     "name": "#%%\n"
    }
   }
  },
  {
   "cell_type": "markdown",
   "source": [
    "#### Вывод: между средним ростом среди взрослых футболистов, хоккеистов и штангистов есть статистически значимые различия."
   ],
   "metadata": {
    "collapsed": false,
    "pycharm": {
     "name": "#%% md\n"
    }
   }
  }
 ],
 "metadata": {
  "kernelspec": {
   "display_name": "Python 3",
   "language": "python",
   "name": "python3"
  },
  "language_info": {
   "codemirror_mode": {
    "name": "ipython",
    "version": 2
   },
   "file_extension": ".py",
   "mimetype": "text/x-python",
   "name": "python",
   "nbconvert_exporter": "python",
   "pygments_lexer": "ipython2",
   "version": "2.7.6"
  }
 },
 "nbformat": 4,
 "nbformat_minor": 0
}