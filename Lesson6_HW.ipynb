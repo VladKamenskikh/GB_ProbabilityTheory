{
 "cells": [
  {
   "cell_type": "code",
   "execution_count": 1,
   "metadata": {},
   "outputs": [],
   "source": [
    "import numpy as np"
   ]
  },
  {
   "cell_type": "markdown",
   "metadata": {},
   "source": [
    "### 1. Даны значения величины заработной платы заемщиков банка (zp) и значения их поведенческого кредитного скоринга (ks):\n",
    "zp = [35, 45, 190, 200, 40, 70, 54, 150, 120, 110],\n",
    "\n",
    "ks = [401, 574, 874, 919, 459, 739, 653, 902, 746, 832].\n",
    "### Найдите ковариацию этих двух величин с помощью элементарных действий, а затем с помощью функции cov из numpy, полученные значения должны быть равны.\n",
    "### Найдите коэффициент корреляции Пирсона с помощью ковариации и среднеквадратичных отклонений двух признаков, а затем с использованием функций из библиотек numpy и pandas."
   ]
  },
  {
   "cell_type": "code",
   "execution_count": 2,
   "metadata": {},
   "outputs": [
    {
     "name": "stdout",
     "output_type": "stream",
     "text": [
      "Ковариация с помощью элементарных действий: 9157.84\n",
      "Ковариация с помощью numpy функции: \n",
      "[[ 3494.64  9157.84]\n",
      " [ 9157.84 30468.89]]\n"
     ]
    }
   ],
   "source": [
    "zp = np.array([35, 45, 190, 200, 40, 70, 54, 150, 120, 110])\n",
    "ks = np.array([401, 574, 874, 919, 459, 739, 653, 902, 746, 832])\n",
    "\n",
    "cov = np.mean(zp*ks) - np.mean(zp)*np.mean(ks)\n",
    "cov_np = np.cov(zp, ks, ddof=0)\n",
    "\n",
    "print(f'Ковариация с помощью элементарных действий: {cov:.2f}')\n",
    "print(f'Ковариация с помощью numpy функции: \\n{cov_np}')"
   ]
  },
  {
   "cell_type": "code",
   "execution_count": 3,
   "metadata": {},
   "outputs": [
    {
     "name": "stdout",
     "output_type": "stream",
     "text": [
      "Коэффициент корреляции с помощью формулы: 0.88749009\n",
      "Коэффициент корреляции numpy функцией: \n",
      "[[1.         0.88749009]\n",
      " [0.88749009 1.        ]]\n"
     ]
    }
   ],
   "source": [
    "rxy = cov / (np.std(zp)*np.std(ks))\n",
    "rxy_np = np.corrcoef(zp,ks)\n",
    "\n",
    "print(f'Коэффициент корреляции с помощью формулы: {rxy:.8f}')\n",
    "print(f'Коэффициент корреляции numpy функцией: \\n{rxy_np}')"
   ]
  },
  {
   "cell_type": "markdown",
   "metadata": {},
   "source": [
    "### 2. Измерены значения IQ выборки студентов, обучающихся в местных технических вузах:\n",
    "\n",
    "131, 125, 115, 122, 131, 115, 107, 99, 125, 111.\n",
    "\n",
    "### Известно, что в генеральной совокупности IQ распределен нормально. Найдите доверительный интервал для математического ожидания с надежностью 0.95."
   ]
  },
  {
   "cell_type": "code",
   "execution_count": 4,
   "metadata": {},
   "outputs": [
    {
     "name": "stdout",
     "output_type": "stream",
     "text": [
      "Доверительный интервал: [110.557;125.643]\n"
     ]
    }
   ],
   "source": [
    "iq = np.array([131, 125, 115, 122, 131, 115, 107, 99, 125, 111])\n",
    "alpha = 0.05\n",
    "\n",
    "n = len(iq)\n",
    "\n",
    "#По таблице получаем t = 2.262\n",
    "conf_int_low = np.mean(iq) - 2.262*(np.std(iq, ddof=1)/n**0.5)\n",
    "conf_int_high = np.mean(iq) + 2.262*(np.std(iq, ddof=1)/n**0.5)\n",
    "\n",
    "print(f'Доверительный интервал: [{conf_int_low:.3f};{conf_int_high:.3f}]')"
   ]
  },
  {
   "cell_type": "markdown",
   "metadata": {},
   "source": [
    "### 3. Известно, что рост футболистов в сборной распределен нормально с дисперсией генеральной совокупности, равной 25 кв.см. Объем выборки равен 27, среднее выборочное составляет 174.2. Найдите доверительный интервал для математического ожидания с надежностью 0.95."
   ]
  },
  {
   "cell_type": "code",
   "execution_count": 5,
   "metadata": {},
   "outputs": [
    {
     "name": "stdout",
     "output_type": "stream",
     "text": [
      "Доверительный интервал: [172.314;176.086]\n"
     ]
    }
   ],
   "source": [
    "alpha = 0.05\n",
    "var = 25\n",
    "std = 5\n",
    "n = 27\n",
    "mean = 174.2\n",
    "\n",
    "#По таблице получаем Z = 1.96\n",
    "conf_int_low = mean - 1.96*(std/n**0.5)\n",
    "conf_int_high = mean + 1.96*(std/n**0.5)\n",
    "\n",
    "print(f'Доверительный интервал: [{conf_int_low:.3f};{conf_int_high:.3f}]')"
   ]
  }
 ],
 "metadata": {
  "kernelspec": {
   "display_name": "Python 3",
   "language": "python",
   "name": "python3"
  },
  "language_info": {
   "codemirror_mode": {
    "name": "ipython",
    "version": 3
   },
   "file_extension": ".py",
   "mimetype": "text/x-python",
   "name": "python",
   "nbconvert_exporter": "python",
   "pygments_lexer": "ipython3",
   "version": "3.8.5"
  }
 },
 "nbformat": 4,
 "nbformat_minor": 4
}
